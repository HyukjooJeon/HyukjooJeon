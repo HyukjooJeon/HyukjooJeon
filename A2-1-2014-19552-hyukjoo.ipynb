{
 "cells": [
  {
   "cell_type": "markdown",
   "metadata": {},
   "source": [
    "# #1. 다음의 프로그램을 작성하시오."
   ]
  },
  {
   "cell_type": "markdown",
   "metadata": {},
   "source": [
    "* > 안녕하세요. 성을 입력해 주세요\n",
    "* > 이름을 입력해 주세요.\n",
    "* > 전혁주님의 나이는 몇살인가요:\n",
    "* > 전혁주님은 지금까지 모두 **xxxx** 초를 살아왔군요.\n",
    "* > 지금까지 이용해 주셔서 감사합니다. 전혁주님."
   ]
  },
  {
   "cell_type": "code",
   "execution_count": 1,
   "metadata": {},
   "outputs": [
    {
     "name": "stdout",
     "output_type": "stream",
     "text": [
      "안녕하세요. 성을 입력해 주세요:전\n",
      "이름을 입력해 주세요:혁주\n",
      "전혁주님의 나이는 몇살인가요:25\n"
     ]
    }
   ],
   "source": [
    "lastname = input(\"안녕하세요. 성을 입력해 주세요:\")\n",
    "firstname = input(\"이름을 입력해 주세요:\")\n",
    "age = input(lastname + firstname + \"님의 나이는 몇살인가요:\")"
   ]
  },
  {
   "cell_type": "code",
   "execution_count": 2,
   "metadata": {},
   "outputs": [],
   "source": [
    "from datetime import datetime, date, time"
   ]
  },
  {
   "cell_type": "code",
   "execution_count": 3,
   "metadata": {},
   "outputs": [
    {
     "name": "stdout",
     "output_type": "stream",
     "text": [
      "전혁주님은 지금까지 모두 초를 살아왔군요.\n"
     ]
    }
   ],
   "source": [
    "print(lastname + firstname + \"님은 지금까지 모두 초를 살아왔군요.\")"
   ]
  },
  {
   "cell_type": "code",
   "execution_count": 4,
   "metadata": {},
   "outputs": [
    {
     "name": "stdout",
     "output_type": "stream",
     "text": [
      "지금까지 이용해 주셔서 감사합니다.전혁주님\n"
     ]
    }
   ],
   "source": [
    "print(\"지금까지 이용해 주셔서 감사합니다.\" + lastname + firstname + \"님\")"
   ]
  },
  {
   "cell_type": "markdown",
   "metadata": {},
   "source": [
    "# #2. 다음을 계산하는 메소드를 만들고 계산 예를 적으시오."
   ]
  },
  {
   "cell_type": "markdown",
   "metadata": {},
   "source": [
    "* 섭씨에서 화씨로 변환"
   ]
  },
  {
   "cell_type": "code",
   "execution_count": 30,
   "metadata": {},
   "outputs": [
    {
     "name": "stdout",
     "output_type": "stream",
     "text": [
      "섭씨:30\n",
      "섭씨 30도는 화씨로 86.0도 입니다.\n"
     ]
    }
   ],
   "source": [
    "celsius = input(\"섭씨:\")\n",
    "fahrenheit = round((int(celsius)*1.8)+32, 3)\n",
    "print(\"섭씨 \" + celsius + \"도는 화씨로 \" + str(fahrenheit) + \"도 입니다.\")"
   ]
  },
  {
   "cell_type": "markdown",
   "metadata": {},
   "source": [
    "* 화씨에서 섭씨로 변환"
   ]
  },
  {
   "cell_type": "markdown",
   "metadata": {},
   "source": [
    "* 인치 <\\-> 센치 변환"
   ]
  },
  {
   "cell_type": "code",
   "execution_count": 17,
   "metadata": {},
   "outputs": [
    {
     "name": "stdout",
     "output_type": "stream",
     "text": [
      "inch:80\n",
      "80인치는 203.2센티미터 입니다.\n"
     ]
    }
   ],
   "source": [
    "inch = input(\"인치:\")\n",
    "print(inch + \"인치는 \" + str(float(inch)*2.54) + \"센티미터 입니다.\")"
   ]
  },
  {
   "cell_type": "code",
   "execution_count": null,
   "metadata": {},
   "outputs": [],
   "source": []
  }
 ],
 "metadata": {
  "kernelspec": {
   "display_name": "Python 3",
   "language": "python",
   "name": "python3"
  },
  "language_info": {
   "codemirror_mode": {
    "name": "ipython",
    "version": 3
   },
   "file_extension": ".py",
   "mimetype": "text/x-python",
   "name": "python",
   "nbconvert_exporter": "python",
   "pygments_lexer": "ipython3",
   "version": "3.6.8"
  }
 },
 "nbformat": 4,
 "nbformat_minor": 2
}
